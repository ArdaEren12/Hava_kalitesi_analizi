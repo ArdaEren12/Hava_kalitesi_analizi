{
  "cells": [
    {
      "cell_type": "markdown",
      "metadata": {
        "id": "view-in-github",
        "colab_type": "text"
      },
      "source": [
        "<a href=\"https://colab.research.google.com/github/ArdaEren12/Hava_kalitesi_analizi/blob/main/Ni%C4%9Fde_hava_kalitesi.ipynb\" target=\"_parent\"><img src=\"https://colab.research.google.com/assets/colab-badge.svg\" alt=\"Open In Colab\"/></a>"
      ]
    },
    {
      "cell_type": "code",
      "execution_count": null,
      "metadata": {
        "id": "pwEGN-haSNiO"
      },
      "outputs": [],
      "source": [
        "  # Gerekli kütüphaneleri içe aktar\n",
        "from google.colab import drive\n",
        "import pandas as pd\n",
        "from sklearn.model_selection import train_test_split\n",
        "from sklearn.naive_bayes import GaussianNB\n",
        "from sklearn.metrics import accuracy_score, classification_report\n",
        "\n",
        "import matplotlib.pyplot as plt\n",
        "import seaborn as sns\n",
        "from sklearn.metrics import confusion_matrix"
      ]
    },
    {
      "cell_type": "code",
      "execution_count": null,
      "metadata": {
        "id": "0aqJ2_5BSQB3"
      },
      "outputs": [],
      "source": [
        "# Google Drive'ı bağla\n",
        "drive.mount('/content/drive')\n",
        "\n",
        "# Veri setini yükle\n",
        "file_path = '/content/drive/MyDrive/makine ögrenmesi ödev/sadece Niğde.xlsx'  # CSV dosyanızın Drive'daki tam yolu\n",
        "df = pd.read_excel(file_path)"
      ]
    },
    {
      "cell_type": "code",
      "execution_count": null,
      "metadata": {
        "id": "rlaPsMT3PJv2"
      },
      "outputs": [],
      "source": [
        "df.head()"
      ]
    },
    {
      "source": [
        "#  Hava Kalitesi SUTUNUNDAKİ VERİLERİN DAĞILIMI\n",
        "\n",
        "from matplotlib import pyplot as plt\n",
        "import seaborn as sns\n",
        "df.groupby('Hava Kalitesi').size().plot(kind='barh', color=sns.palettes.mpl_palette('Dark2'))\n",
        "plt.gca().spines[['top', 'right',]].set_visible(False)"
      ],
      "cell_type": "code",
      "execution_count": null,
      "outputs": [],
      "metadata": {
        "id": "Uhs8ZBGnnS7C"
      }
    },
    {
      "cell_type": "code",
      "execution_count": null,
      "metadata": {
        "id": "dVqaf8G6dST0"
      },
      "outputs": [],
      "source": [
        "print(df.columns)\n"
      ]
    },
    {
      "cell_type": "code",
      "execution_count": null,
      "metadata": {
        "id": "c_csnlL-StT_"
      },
      "outputs": [],
      "source": [
        "# Özellikleri (X) ve hedefi (y) ayır\n",
        "X = df[['PM10', 'PM2.5', 'SO2', 'NO2', 'NOX', 'NO']]\n",
        "y = df['Hava Kalitesi']"
      ]
    },
    {
      "cell_type": "code",
      "execution_count": null,
      "metadata": {
        "id": "0xbrRQZPestS"
      },
      "outputs": [],
      "source": [
        "# Veriyi eğitim ve test setlerine ayır\n",
        "X_train, X_test, y_train, y_test = train_test_split(X, y, test_size=0.2, random_state=42)\n"
      ]
    },
    {
      "cell_type": "code",
      "execution_count": null,
      "metadata": {
        "id": "BTWcXyfcfItM"
      },
      "outputs": [],
      "source": [
        "# Gaussian Naive Bayes modelini oluştur ve eğit\n",
        "model = GaussianNB()\n",
        "model.fit(X_train, y_train)"
      ]
    },
    {
      "cell_type": "code",
      "execution_count": null,
      "metadata": {
        "id": "foId9RB0fbEZ"
      },
      "outputs": [],
      "source": [
        "# Modeli test setiyle değerlendir\n",
        "y_pred = model.predict(X_test)\n",
        "accuracy = accuracy_score(y_test, y_pred)"
      ]
    },
    {
      "cell_type": "code",
      "source": [
        "satir_sayisi = df.shape[0]  # İlk değer satır sayısını ifade eder\n",
        "print(f\"Satır Sayısı: {satir_sayisi}\")\n"
      ],
      "metadata": {
        "id": "zG2q7Hf3ayMz"
      },
      "execution_count": null,
      "outputs": []
    },
    {
      "cell_type": "code",
      "source": [
        "# Hava kalitesi ve diğer değerlerin bir arada olduğu grafik\n",
        "plt.figure(figsize=(12, 6))\n",
        "\n",
        "# Hava kalitesi kategorilerine göre renkleri belirleyin\n",
        "colors = {'Çok İyi': 'green', 'İyi': 'lightgreen', 'Orta': 'yellow', 'Kötü': 'orange',\n",
        "          'Çok Kötü': 'red'}\n",
        "\n",
        "# Her hava kalitesi kategorisi için ayrı bir çizgi grafiği çizin\n",
        "for air_quality in df['Hava Kalitesi'].unique():\n",
        "    air_quality_data = df[df['Hava Kalitesi'] == air_quality]\n",
        "    plt.plot(air_quality_data[['PM10', 'PM2.5', 'SO2', 'NO2', 'NOX', 'NO']].mean(),\n",
        "             label=air_quality, color=colors[air_quality], marker='o')\n",
        "\n",
        "plt.title('Hava Kalitesi ve Diğer Değerlerin Karşılaştırması')\n",
        "plt.xlabel('Değerler')\n",
        "plt.ylabel('Ortalama Değer')\n",
        "plt.xticks(range(6), ['PM10', 'PM2.5', 'SO2', 'NO2', 'NOX', 'NO'], rotation=45)\n",
        "plt.legend(title='Hava Kalitesi')\n",
        "plt.tight_layout()\n",
        "plt.show()"
      ],
      "metadata": {
        "id": "PfSaSnrqoXjU"
      },
      "execution_count": null,
      "outputs": []
    },
    {
      "cell_type": "code",
      "source": [
        "import matplotlib.pyplot as plt\n",
        "import seaborn as sns\n",
        "from itertools import combinations\n",
        "\n",
        "# Verilerinizi yükleyin\n",
        "# df = pd.read_csv('veri.csv')  # Veri setinizi buradan yükleyin\n",
        "\n",
        "# Belirtilen sütunlar\n",
        "columns = ['PM10', 'PM2.5', 'SO2', 'NO2', 'NOX', 'NO']\n",
        "\n",
        "# İkili kombinasyonlar oluşturma\n",
        "combinations_pairs = list(combinations(columns, 2))\n",
        "\n",
        "# Grafik oluşturma\n",
        "for pair in combinations_pairs:\n",
        "    plt.figure(figsize=(8, 6))\n",
        "    sns.scatterplot(data=df, x=pair[0], y=pair[1], hue='Hava Kalitesi', palette='coolwarm', alpha=0.7)\n",
        "    plt.title(f'{pair[0]} vs {pair[1]}')\n",
        "    plt.xlabel(pair[0])\n",
        "    plt.ylabel(pair[1])\n",
        "    plt.legend(title='Hava Kalitesi', bbox_to_anchor=(1.05, 1), loc='upper left')  # Efsaneyi dışarıya al\n",
        "    plt.tight_layout()  # Düzenlemeyi sıkıştır\n",
        "    plt.show()"
      ],
      "metadata": {
        "id": "eOWJK8WkJNQ6"
      },
      "execution_count": null,
      "outputs": []
    },
    {
      "cell_type": "code",
      "source": [
        "import matplotlib.pyplot as plt\n",
        "import seaborn as sns\n",
        "from sklearn.metrics import confusion_matrix\n",
        "\n",
        "# Assuming you have y_test (true labels) and y_pred (predicted labels)\n",
        "\n",
        "# Create confusion matrix\n",
        "cm = confusion_matrix(y_test, y_pred)\n",
        "\n",
        "# Plot confusion matrix using Seaborn heatmap\n",
        "plt.figure(figsize=(10, 7))\n",
        "sns.heatmap(cm, annot=True, fmt='d', cmap='Blues',\n",
        "            xticklabels=model.classes_, yticklabels=model.classes_)\n",
        "plt.title('Confusion Matrix for Air Quality Prediction')\n",
        "plt.xlabel('Predicted Air Quality')\n",
        "plt.ylabel('True Air Quality')\n",
        "plt.show()"
      ],
      "metadata": {
        "id": "ZE9zr-nvStIp"
      },
      "execution_count": null,
      "outputs": []
    },
    {
      "cell_type": "code",
      "execution_count": null,
      "metadata": {
        "id": "5msGGOSafip5"
      },
      "outputs": [],
      "source": [
        "print(f\"Modelin doğruluğu: %{accuracy * 100:.2f}\")\n",
        "print(classification_report(y_test, y_pred))\n"
      ]
    }
  ],
  "metadata": {
    "colab": {
      "provenance": [],
      "mount_file_id": "1YHvTrGGYhLeWq4lJ_dQGfxs3y7b3yI4D",
      "authorship_tag": "ABX9TyNj8UF5V0HlUPq+B7iGxU6B",
      "include_colab_link": true
    },
    "kernelspec": {
      "display_name": "Python 3",
      "name": "python3"
    },
    "language_info": {
      "name": "python"
    }
  },
  "nbformat": 4,
  "nbformat_minor": 0
}